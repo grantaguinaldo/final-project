{
 "cells": [
  {
   "cell_type": "code",
   "execution_count": 24,
   "metadata": {},
   "outputs": [
    {
     "data": {
      "text/plain": [
       "['model.pkl']"
      ]
     },
     "execution_count": 24,
     "metadata": {},
     "output_type": "execute_result"
    }
   ],
   "source": [
    "from sklearn.feature_extraction.text import CountVectorizer\n",
    "from sklearn.naive_bayes import MultinomialNB\n",
    "from sklearn.model_selection import train_test_split, cross_val_score\n",
    "from sklearn.metrics import confusion_matrix, classification_report\n",
    "from sklearn.externals import joblib\n",
    "import string\n",
    "import pandas as pd\n",
    "\n",
    "df = pd.read_csv('/Users/gta/Desktop/final-project/data/McClean.csv')\n",
    "\n",
    "nb = MultinomialNB()\n",
    "\n",
    "vect = CountVectorizer(stop_words='english', min_df=0.01, max_df=0.95, ngram_range=(1, 2))\n",
    "\n",
    "X = df['trim_text']\n",
    "y = df['rude']\n",
    "\n",
    "process_ = Pipeline([('step1', vect), ('step2', nb)])\n",
    "\n",
    "process_.fit(X, y)\n",
    "\n",
    "joblib.dump(process_, 'model.pkl')"
   ]
  }
 ],
 "metadata": {
  "kernelspec": {
   "display_name": "Python 3",
   "language": "python",
   "name": "python3"
  },
  "language_info": {
   "codemirror_mode": {
    "name": "ipython",
    "version": 3
   },
   "file_extension": ".py",
   "mimetype": "text/x-python",
   "name": "python",
   "nbconvert_exporter": "python",
   "pygments_lexer": "ipython3",
   "version": "3.6.3"
  }
 },
 "nbformat": 4,
 "nbformat_minor": 2
}
