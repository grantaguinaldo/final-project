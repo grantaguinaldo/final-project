{
 "cells": [
  {
   "cell_type": "code",
   "execution_count": 1,
   "metadata": {},
   "outputs": [
    {
     "data": {
      "text/html": [
       "<div>\n",
       "<style>\n",
       "    .dataframe thead tr:only-child th {\n",
       "        text-align: right;\n",
       "    }\n",
       "\n",
       "    .dataframe thead th {\n",
       "        text-align: left;\n",
       "    }\n",
       "\n",
       "    .dataframe tbody tr th {\n",
       "        vertical-align: top;\n",
       "    }\n",
       "</style>\n",
       "<table border=\"1\" class=\"dataframe\">\n",
       "  <thead>\n",
       "    <tr style=\"text-align: right;\">\n",
       "      <th></th>\n",
       "      <th>rude</th>\n",
       "      <th>trim_text</th>\n",
       "      <th>review_len</th>\n",
       "      <th>sentiment_polarity</th>\n",
       "      <th>sentiment_objectivity</th>\n",
       "    </tr>\n",
       "  </thead>\n",
       "  <tbody>\n",
       "    <tr>\n",
       "      <th>0</th>\n",
       "      <td>1</td>\n",
       "      <td>im not a huge mcds lover but ive been to bette...</td>\n",
       "      <td>50</td>\n",
       "      <td>-0.328571</td>\n",
       "      <td>0.828571</td>\n",
       "    </tr>\n",
       "    <tr>\n",
       "      <th>1</th>\n",
       "      <td>1</td>\n",
       "      <td>terrible customer service came in at pm and st...</td>\n",
       "      <td>80</td>\n",
       "      <td>-0.257143</td>\n",
       "      <td>0.521429</td>\n",
       "    </tr>\n",
       "    <tr>\n",
       "      <th>2</th>\n",
       "      <td>0</td>\n",
       "      <td>first they lost my order actually they gave it...</td>\n",
       "      <td>156</td>\n",
       "      <td>0.093750</td>\n",
       "      <td>0.529167</td>\n",
       "    </tr>\n",
       "    <tr>\n",
       "      <th>3</th>\n",
       "      <td>0</td>\n",
       "      <td>i see im not the only one giving star only bec...</td>\n",
       "      <td>22</td>\n",
       "      <td>0.000000</td>\n",
       "      <td>1.000000</td>\n",
       "    </tr>\n",
       "    <tr>\n",
       "      <th>4</th>\n",
       "      <td>1</td>\n",
       "      <td>well its mcdonalds so you know what the food i...</td>\n",
       "      <td>143</td>\n",
       "      <td>-0.009361</td>\n",
       "      <td>0.437175</td>\n",
       "    </tr>\n",
       "  </tbody>\n",
       "</table>\n",
       "</div>"
      ],
      "text/plain": [
       "   rude                                          trim_text  review_len  \\\n",
       "0     1  im not a huge mcds lover but ive been to bette...          50   \n",
       "1     1  terrible customer service came in at pm and st...          80   \n",
       "2     0  first they lost my order actually they gave it...         156   \n",
       "3     0  i see im not the only one giving star only bec...          22   \n",
       "4     1  well its mcdonalds so you know what the food i...         143   \n",
       "\n",
       "   sentiment_polarity  sentiment_objectivity  \n",
       "0           -0.328571               0.828571  \n",
       "1           -0.257143               0.521429  \n",
       "2            0.093750               0.529167  \n",
       "3            0.000000               1.000000  \n",
       "4           -0.009361               0.437175  "
      ]
     },
     "execution_count": 1,
     "metadata": {},
     "output_type": "execute_result"
    }
   ],
   "source": [
    "import pandas as pd\n",
    "\n",
    "url = 'http://bit.ly/mc_clean_data_usc'\n",
    "df = pd.read_csv(url)\n",
    "\n",
    "df.head()"
   ]
  },
  {
   "cell_type": "code",
   "execution_count": null,
   "metadata": {
    "collapsed": true
   },
   "outputs": [],
   "source": []
  }
 ],
 "metadata": {
  "kernelspec": {
   "display_name": "Python 3",
   "language": "python",
   "name": "python3"
  },
  "language_info": {
   "codemirror_mode": {
    "name": "ipython",
    "version": 3
   },
   "file_extension": ".py",
   "mimetype": "text/x-python",
   "name": "python",
   "nbconvert_exporter": "python",
   "pygments_lexer": "ipython3",
   "version": "3.6.3"
  }
 },
 "nbformat": 4,
 "nbformat_minor": 2
}
