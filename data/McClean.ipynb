{
 "cells": [
  {
   "cell_type": "code",
   "execution_count": 71,
   "metadata": {
    "collapsed": true
   },
   "outputs": [],
   "source": [
    "import pandas as pd\n",
    "import string"
   ]
  },
  {
   "cell_type": "code",
   "execution_count": 72,
   "metadata": {},
   "outputs": [
    {
     "name": "stderr",
     "output_type": "stream",
     "text": [
      "C:\\ProgramData\\Anaconda3\\lib\\site-packages\\ipykernel_launcher.py:11: SettingWithCopyWarning: \n",
      "A value is trying to be set on a copy of a slice from a DataFrame\n",
      "\n",
      "See the caveats in the documentation: http://pandas.pydata.org/pandas-docs/stable/indexing.html#indexing-view-versus-copy\n",
      "  # This is added back by InteractiveShellApp.init_path()\n"
     ]
    },
    {
     "data": {
      "text/html": [
       "<div>\n",
       "<style>\n",
       "    .dataframe thead tr:only-child th {\n",
       "        text-align: right;\n",
       "    }\n",
       "\n",
       "    .dataframe thead th {\n",
       "        text-align: left;\n",
       "    }\n",
       "\n",
       "    .dataframe tbody tr th {\n",
       "        vertical-align: top;\n",
       "    }\n",
       "</style>\n",
       "<table border=\"1\" class=\"dataframe\">\n",
       "  <thead>\n",
       "    <tr style=\"text-align: right;\">\n",
       "      <th></th>\n",
       "      <th>cleaned_review</th>\n",
       "      <th>rude</th>\n",
       "    </tr>\n",
       "  </thead>\n",
       "  <tbody>\n",
       "    <tr>\n",
       "      <th>0</th>\n",
       "      <td>im not a huge mcds lover but ive been to bette...</td>\n",
       "      <td>1</td>\n",
       "    </tr>\n",
       "    <tr>\n",
       "      <th>1</th>\n",
       "      <td>terrible customer service   came in at pm and ...</td>\n",
       "      <td>1</td>\n",
       "    </tr>\n",
       "    <tr>\n",
       "      <th>2</th>\n",
       "      <td>first they lost my order actually they gave it...</td>\n",
       "      <td>0</td>\n",
       "    </tr>\n",
       "    <tr>\n",
       "      <th>3</th>\n",
       "      <td>i see im not the only one giving  star only be...</td>\n",
       "      <td>0</td>\n",
       "    </tr>\n",
       "    <tr>\n",
       "      <th>4</th>\n",
       "      <td>well its mcdonalds so you know what the food i...</td>\n",
       "      <td>1</td>\n",
       "    </tr>\n",
       "  </tbody>\n",
       "</table>\n",
       "</div>"
      ],
      "text/plain": [
       "                                      cleaned_review  rude\n",
       "0  im not a huge mcds lover but ive been to bette...     1\n",
       "1  terrible customer service   came in at pm and ...     1\n",
       "2  first they lost my order actually they gave it...     0\n",
       "3  i see im not the only one giving  star only be...     0\n",
       "4  well its mcdonalds so you know what the food i...     1"
      ]
     },
     "execution_count": 72,
     "metadata": {},
     "output_type": "execute_result"
    }
   ],
   "source": [
    "McData_df = pd.read_csv('McDonalds-Yelp-Sentiment-DFE.csv', encoding=\"ISO-8859-1\")\n",
    "McData_df.policies_violated = McData_df.policies_violated.fillna('none')\n",
    "McData_df['policies_violated'] = McData_df['policies_violated'].str.lower()\n",
    "McData_df['review'] = McData_df['review'].str.lower()\n",
    "McData_df['cleaned_review'] = McData_df['review'].apply(lambda x:''.join([i for i in x \n",
    "                                                  if i not in string.punctuation]))\n",
    "McData_df = McData_df.replace('\\r',' ', regex=True)\n",
    "McData_df = McData_df.replace('î¾i',' ', regex=True)\n",
    "McData_df['cleaned_review'] = McData_df['cleaned_review'].str.replace('\\d+', '')\n",
    "McData_df[\"rude\"]=0\n",
    "McData_df[\"rude\"][McData_df['policies_violated'].str.contains(\"rude\")] = 1\n",
    "McClean_df = McData_df[['cleaned_review', 'rude']]\n",
    "\n",
    "McClean_df.to_csv('McClean.csv', index=False)\n",
    "McData_df = pd.read_csv('McClean.csv', encoding=\"ISO-8859-1\")\n",
    "McData_df.head()"
   ]
  },
  {
   "cell_type": "code",
   "execution_count": 68,
   "metadata": {},
   "outputs": [],
   "source": [
    "McClean_df.to_csv('McClean.csv', index=False)"
   ]
  },
  {
   "cell_type": "code",
   "execution_count": null,
   "metadata": {
    "collapsed": true
   },
   "outputs": [],
   "source": [
    "'''\n",
    "X = Review\n",
    "y = rude not rude (1/0)\n",
    "train test split\n",
    "count vectorizer (x_test, y_test)\n",
    "\n",
    "Fit Transform in two steps maybe one step\n",
    "\n",
    "test is to vetorized on x_test\n",
    "\n",
    "fit the training data on the testing data. \n",
    "\n",
    "Logistic regresion\n",
    "Naive Bayes\n",
    "Randome forest\n",
    "Knn\n",
    "After do a grid search\n",
    "Look at confusion matrix\n",
    "\n",
    "Tfidf vectorizer\n",
    "Count vectorizer\n",
    "Tsujita noodle Olympic saltalle\n",
    "'''"
   ]
  }
 ],
 "metadata": {
  "kernelspec": {
   "display_name": "Python 3",
   "language": "python",
   "name": "python3"
  },
  "language_info": {
   "codemirror_mode": {
    "name": "ipython",
    "version": 3
   },
   "file_extension": ".py",
   "mimetype": "text/x-python",
   "name": "python",
   "nbconvert_exporter": "python",
   "pygments_lexer": "ipython3",
   "version": "3.6.2"
  }
 },
 "nbformat": 4,
 "nbformat_minor": 2
}
