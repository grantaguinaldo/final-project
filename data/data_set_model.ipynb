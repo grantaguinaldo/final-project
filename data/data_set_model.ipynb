{
 "cells": [
  {
   "cell_type": "markdown",
   "metadata": {},
   "source": [
    "# Machine Learning Models"
   ]
  },
  {
   "cell_type": "code",
   "execution_count": 26,
   "metadata": {},
   "outputs": [
    {
     "data": {
      "text/html": [
       "<div>\n",
       "<style>\n",
       "    .dataframe thead tr:only-child th {\n",
       "        text-align: right;\n",
       "    }\n",
       "\n",
       "    .dataframe thead th {\n",
       "        text-align: left;\n",
       "    }\n",
       "\n",
       "    .dataframe tbody tr th {\n",
       "        vertical-align: top;\n",
       "    }\n",
       "</style>\n",
       "<table border=\"1\" class=\"dataframe\">\n",
       "  <thead>\n",
       "    <tr style=\"text-align: right;\">\n",
       "      <th></th>\n",
       "      <th>cleaned_review</th>\n",
       "      <th>rude</th>\n",
       "      <th>trim_text</th>\n",
       "      <th>review_len</th>\n",
       "      <th>sentiment_polarity</th>\n",
       "      <th>sentiment_objectivity</th>\n",
       "    </tr>\n",
       "  </thead>\n",
       "  <tbody>\n",
       "    <tr>\n",
       "      <th>0</th>\n",
       "      <td>im not a huge mcds lover but ive been to bette...</td>\n",
       "      <td>1</td>\n",
       "      <td></td>\n",
       "      <td></td>\n",
       "      <td></td>\n",
       "      <td></td>\n",
       "    </tr>\n",
       "    <tr>\n",
       "      <th>1</th>\n",
       "      <td>terrible customer service   came in at pm and ...</td>\n",
       "      <td>1</td>\n",
       "      <td></td>\n",
       "      <td></td>\n",
       "      <td></td>\n",
       "      <td></td>\n",
       "    </tr>\n",
       "    <tr>\n",
       "      <th>2</th>\n",
       "      <td>first they lost my order actually they gave it...</td>\n",
       "      <td>0</td>\n",
       "      <td></td>\n",
       "      <td></td>\n",
       "      <td></td>\n",
       "      <td></td>\n",
       "    </tr>\n",
       "    <tr>\n",
       "      <th>3</th>\n",
       "      <td>i see im not the only one giving  star only be...</td>\n",
       "      <td>0</td>\n",
       "      <td></td>\n",
       "      <td></td>\n",
       "      <td></td>\n",
       "      <td></td>\n",
       "    </tr>\n",
       "    <tr>\n",
       "      <th>4</th>\n",
       "      <td>well its mcdonalds so you know what the food i...</td>\n",
       "      <td>1</td>\n",
       "      <td></td>\n",
       "      <td></td>\n",
       "      <td></td>\n",
       "      <td></td>\n",
       "    </tr>\n",
       "  </tbody>\n",
       "</table>\n",
       "</div>"
      ],
      "text/plain": [
       "                                      cleaned_review  rude trim_text  \\\n",
       "0  im not a huge mcds lover but ive been to bette...     1             \n",
       "1  terrible customer service   came in at pm and ...     1             \n",
       "2  first they lost my order actually they gave it...     0             \n",
       "3  i see im not the only one giving  star only be...     0             \n",
       "4  well its mcdonalds so you know what the food i...     1             \n",
       "\n",
       "  review_len sentiment_polarity sentiment_objectivity  \n",
       "0                                                      \n",
       "1                                                      \n",
       "2                                                      \n",
       "3                                                      \n",
       "4                                                      "
      ]
     },
     "execution_count": 26,
     "metadata": {},
     "output_type": "execute_result"
    }
   ],
   "source": [
    "import pandas as pd\n",
    "from textblob import TextBlob\n",
    "url = 'https://raw.githubusercontent.com/grantaguinaldo/final-project/master/data/McClean.csv'\n",
    "df = pd.read_csv(url, encoding='latin-1')\n",
    "\n",
    "df['trim_text'] = ''\n",
    "df['review_len'] = ''\n",
    "df['sentiment_polarity'] = ''\n",
    "df['sentiment_objectivity'] = ''\n",
    "\n",
    "df.head()"
   ]
  },
  {
   "cell_type": "code",
   "execution_count": null,
   "metadata": {
    "collapsed": true
   },
   "outputs": [],
   "source": []
  },
  {
   "cell_type": "code",
   "execution_count": 29,
   "metadata": {},
   "outputs": [
    {
     "data": {
      "text/html": [
       "<div>\n",
       "<style>\n",
       "    .dataframe thead tr:only-child th {\n",
       "        text-align: right;\n",
       "    }\n",
       "\n",
       "    .dataframe thead th {\n",
       "        text-align: left;\n",
       "    }\n",
       "\n",
       "    .dataframe tbody tr th {\n",
       "        vertical-align: top;\n",
       "    }\n",
       "</style>\n",
       "<table border=\"1\" class=\"dataframe\">\n",
       "  <thead>\n",
       "    <tr style=\"text-align: right;\">\n",
       "      <th></th>\n",
       "      <th>cleaned_review</th>\n",
       "      <th>rude</th>\n",
       "      <th>trim_text</th>\n",
       "      <th>review_len</th>\n",
       "      <th>sentiment_polarity</th>\n",
       "      <th>sentiment_objectivity</th>\n",
       "    </tr>\n",
       "  </thead>\n",
       "  <tbody>\n",
       "    <tr>\n",
       "      <th>0</th>\n",
       "      <td>im not a huge mcds lover but ive been to bette...</td>\n",
       "      <td>1</td>\n",
       "      <td>im not a huge mcds lover but ive been to bette...</td>\n",
       "      <td>50</td>\n",
       "      <td>-0.328571</td>\n",
       "      <td>0.828571</td>\n",
       "    </tr>\n",
       "    <tr>\n",
       "      <th>1</th>\n",
       "      <td>terrible customer service   came in at pm and ...</td>\n",
       "      <td>1</td>\n",
       "      <td>terrible customer service came in at pm and st...</td>\n",
       "      <td>80</td>\n",
       "      <td>-0.257143</td>\n",
       "      <td>0.521429</td>\n",
       "    </tr>\n",
       "    <tr>\n",
       "      <th>2</th>\n",
       "      <td>first they lost my order actually they gave it...</td>\n",
       "      <td>0</td>\n",
       "      <td>first they lost my order actually they gave it...</td>\n",
       "      <td>156</td>\n",
       "      <td>0.09375</td>\n",
       "      <td>0.529167</td>\n",
       "    </tr>\n",
       "    <tr>\n",
       "      <th>3</th>\n",
       "      <td>i see im not the only one giving  star only be...</td>\n",
       "      <td>0</td>\n",
       "      <td>i see im not the only one giving star only bec...</td>\n",
       "      <td>22</td>\n",
       "      <td>0</td>\n",
       "      <td>1</td>\n",
       "    </tr>\n",
       "    <tr>\n",
       "      <th>4</th>\n",
       "      <td>well its mcdonalds so you know what the food i...</td>\n",
       "      <td>1</td>\n",
       "      <td>well its mcdonalds so you know what the food i...</td>\n",
       "      <td>143</td>\n",
       "      <td>-0.00936147</td>\n",
       "      <td>0.437175</td>\n",
       "    </tr>\n",
       "  </tbody>\n",
       "</table>\n",
       "</div>"
      ],
      "text/plain": [
       "                                      cleaned_review  rude  \\\n",
       "0  im not a huge mcds lover but ive been to bette...     1   \n",
       "1  terrible customer service   came in at pm and ...     1   \n",
       "2  first they lost my order actually they gave it...     0   \n",
       "3  i see im not the only one giving  star only be...     0   \n",
       "4  well its mcdonalds so you know what the food i...     1   \n",
       "\n",
       "                                           trim_text review_len  \\\n",
       "0  im not a huge mcds lover but ive been to bette...         50   \n",
       "1  terrible customer service came in at pm and st...         80   \n",
       "2  first they lost my order actually they gave it...        156   \n",
       "3  i see im not the only one giving star only bec...         22   \n",
       "4  well its mcdonalds so you know what the food i...        143   \n",
       "\n",
       "  sentiment_polarity sentiment_objectivity  \n",
       "0          -0.328571              0.828571  \n",
       "1          -0.257143              0.521429  \n",
       "2            0.09375              0.529167  \n",
       "3                  0                     1  \n",
       "4        -0.00936147              0.437175  "
      ]
     },
     "execution_count": 29,
     "metadata": {},
     "output_type": "execute_result"
    }
   ],
   "source": [
    "except_list = []\n",
    "for index, row in df.iterrows():\n",
    "    try:\n",
    "        df.set_value(index, 'trim_text', \" \".join(row['cleaned_review'].split()))\n",
    "        df.set_value(index, 'review_len', len(row['trim_text'].split(' ')))\n",
    "        df.set_value(index, 'sentiment_polarity', TextBlob(row['trim_text']).sentiment.polarity)\n",
    "        df.set_value(index, 'sentiment_objectivity', TextBlob(row['trim_text']).sentiment.subjectivity)\n",
    "    except:\n",
    "        except_list.append(row)\n",
    "df.head()"
   ]
  },
  {
   "cell_type": "code",
   "execution_count": 30,
   "metadata": {},
   "outputs": [
    {
     "data": {
      "text/html": [
       "<div>\n",
       "<style>\n",
       "    .dataframe thead tr:only-child th {\n",
       "        text-align: right;\n",
       "    }\n",
       "\n",
       "    .dataframe thead th {\n",
       "        text-align: left;\n",
       "    }\n",
       "\n",
       "    .dataframe tbody tr th {\n",
       "        vertical-align: top;\n",
       "    }\n",
       "</style>\n",
       "<table border=\"1\" class=\"dataframe\">\n",
       "  <thead>\n",
       "    <tr style=\"text-align: right;\">\n",
       "      <th></th>\n",
       "      <th>rude</th>\n",
       "      <th>trim_text</th>\n",
       "      <th>review_len</th>\n",
       "      <th>sentiment_polarity</th>\n",
       "      <th>sentiment_objectivity</th>\n",
       "    </tr>\n",
       "  </thead>\n",
       "  <tbody>\n",
       "    <tr>\n",
       "      <th>0</th>\n",
       "      <td>1</td>\n",
       "      <td>im not a huge mcds lover but ive been to bette...</td>\n",
       "      <td>50</td>\n",
       "      <td>-0.328571</td>\n",
       "      <td>0.828571</td>\n",
       "    </tr>\n",
       "    <tr>\n",
       "      <th>1</th>\n",
       "      <td>1</td>\n",
       "      <td>terrible customer service came in at pm and st...</td>\n",
       "      <td>80</td>\n",
       "      <td>-0.257143</td>\n",
       "      <td>0.521429</td>\n",
       "    </tr>\n",
       "    <tr>\n",
       "      <th>2</th>\n",
       "      <td>0</td>\n",
       "      <td>first they lost my order actually they gave it...</td>\n",
       "      <td>156</td>\n",
       "      <td>0.09375</td>\n",
       "      <td>0.529167</td>\n",
       "    </tr>\n",
       "    <tr>\n",
       "      <th>3</th>\n",
       "      <td>0</td>\n",
       "      <td>i see im not the only one giving star only bec...</td>\n",
       "      <td>22</td>\n",
       "      <td>0</td>\n",
       "      <td>1</td>\n",
       "    </tr>\n",
       "    <tr>\n",
       "      <th>4</th>\n",
       "      <td>1</td>\n",
       "      <td>well its mcdonalds so you know what the food i...</td>\n",
       "      <td>143</td>\n",
       "      <td>-0.00936147</td>\n",
       "      <td>0.437175</td>\n",
       "    </tr>\n",
       "  </tbody>\n",
       "</table>\n",
       "</div>"
      ],
      "text/plain": [
       "   rude                                          trim_text review_len  \\\n",
       "0     1  im not a huge mcds lover but ive been to bette...         50   \n",
       "1     1  terrible customer service came in at pm and st...         80   \n",
       "2     0  first they lost my order actually they gave it...        156   \n",
       "3     0  i see im not the only one giving star only bec...         22   \n",
       "4     1  well its mcdonalds so you know what the food i...        143   \n",
       "\n",
       "  sentiment_polarity sentiment_objectivity  \n",
       "0          -0.328571              0.828571  \n",
       "1          -0.257143              0.521429  \n",
       "2            0.09375              0.529167  \n",
       "3                  0                     1  \n",
       "4        -0.00936147              0.437175  "
      ]
     },
     "execution_count": 30,
     "metadata": {},
     "output_type": "execute_result"
    }
   ],
   "source": [
    "df.drop('cleaned_review', axis=1, inplace=True)\n",
    "df.to_csv('McClean.csv', index=False)\n",
    "df.head()"
   ]
  },
  {
   "cell_type": "markdown",
   "metadata": {},
   "source": [
    "## Naive_Bayes"
   ]
  },
  {
   "cell_type": "code",
   "execution_count": 61,
   "metadata": {},
   "outputs": [],
   "source": [
    "from sklearn.feature_extraction.text import CountVectorizer\n",
    "from sklearn.naive_bayes import MultinomialNB\n",
    "from sklearn.model_selection import train_test_split, cross_val_score\n",
    "from sklearn.metrics import confusion_matrix, classification_report\n",
    "\n",
    "nb = MultinomialNB()\n",
    "\n",
    "min_df = 0.01\n",
    "max_df = 0.95\n",
    "vect = CountVectorizer(stop_words='english', min_df=min_df, max_df=max_df, ngram_range=(1, 2))\n",
    "X = df['trim_text']\n",
    "y = df['rude']\n",
    "X_dtm = vect.fit_transform(X)\n",
    "X_train, X_test, y_train, y_test = train_test_split(X_dtm, y, test_size=0.30, random_state=42)\n",
    "\n",
    "# Create the GridSearch estimator along with a parameter object containing the values to adjust\n",
    "from sklearn.model_selection import GridSearchCV\n",
    "param_grid = {'alpha': [1],\n",
    "              'fit_prior': ['True','False']}\n",
    "grid = GridSearchCV(nb, param_grid, verbose=3)"
   ]
  },
  {
   "cell_type": "code",
   "execution_count": 62,
   "metadata": {},
   "outputs": [
    {
     "name": "stdout",
     "output_type": "stream",
     "text": [
      "Fitting 3 folds for each of 2 candidates, totalling 6 fits\n",
      "[CV] alpha=1, fit_prior=True .........................................\n",
      "[CV]  alpha=1, fit_prior=True, score=0.7612359550561798, total=   0.0s\n",
      "[CV] alpha=1, fit_prior=True .........................................\n",
      "[CV]  alpha=1, fit_prior=True, score=0.7106741573033708, total=   0.0s\n",
      "[CV] alpha=1, fit_prior=True .........................................\n",
      "[CV]  alpha=1, fit_prior=True, score=0.7211267605633803, total=   0.0s\n",
      "[CV] alpha=1, fit_prior=False ........................................\n",
      "[CV]  alpha=1, fit_prior=False, score=0.7612359550561798, total=   0.0s\n",
      "[CV] alpha=1, fit_prior=False ........................................\n",
      "[CV]  alpha=1, fit_prior=False, score=0.7106741573033708, total=   0.0s\n",
      "[CV] alpha=1, fit_prior=False ........................................\n",
      "[CV]  alpha=1, fit_prior=False, score=0.7211267605633803, total=   0.0s\n",
      "0.7310215557638238\n"
     ]
    },
    {
     "name": "stderr",
     "output_type": "stream",
     "text": [
      "[Parallel(n_jobs=1)]: Done   1 out of   1 | elapsed:    0.0s remaining:    0.0s\n",
      "[Parallel(n_jobs=1)]: Done   2 out of   2 | elapsed:    0.0s remaining:    0.0s\n",
      "[Parallel(n_jobs=1)]: Done   6 out of   6 | elapsed:    0.0s finished\n"
     ]
    }
   ],
   "source": [
    " # Fit the model using the grid search estimator. \n",
    "# This will take the Naive Bayes model and try each combination of parameters\n",
    "grid.fit(X_train, y_train)\n",
    "\n",
    " # List the best score\n",
    "print(grid.best_score_)"
   ]
  },
  {
   "cell_type": "code",
   "execution_count": 63,
   "metadata": {},
   "outputs": [
    {
     "name": "stdout",
     "output_type": "stream",
     "text": [
      "{'alpha': 1, 'fit_prior': 'True'}\n"
     ]
    }
   ],
   "source": [
    "# List the best parameters for this dataset\n",
    "print(grid.best_params_)"
   ]
  },
  {
   "cell_type": "code",
   "execution_count": 64,
   "metadata": {},
   "outputs": [
    {
     "name": "stdout",
     "output_type": "stream",
     "text": [
      "             precision    recall  f1-score   support\n",
      "\n",
      "   not rude       0.85      0.82      0.84       308\n",
      "       rude       0.66      0.71      0.68       150\n",
      "\n",
      "avg / total       0.79      0.78      0.79       458\n",
      "\n"
     ]
    }
   ],
   "source": [
    " # Make predictions with the hypertuned model\n",
    "predictions = grid.predict(X_test)\n",
    "\n",
    " # Calculate classification report\n",
    "from sklearn.metrics import classification_report\n",
    "print(classification_report(y_test, predictions,\n",
    "                            target_names=[\"not rude\", \"rude\"]))"
   ]
  },
  {
   "cell_type": "markdown",
   "metadata": {},
   "source": [
    "## Logistic Regression"
   ]
  },
  {
   "cell_type": "code",
   "execution_count": 86,
   "metadata": {},
   "outputs": [],
   "source": [
    "from sklearn.linear_model import LogisticRegression\n",
    "import numpy as np\n",
    "\n",
    "lg = LogisticRegression()\n",
    "\n",
    "min_df = 0.01\n",
    "max_df = 0.95\n",
    "vect = CountVectorizer(stop_words='english', min_df=min_df, max_df=max_df, ngram_range=(1, 2))\n",
    "X = df['trim_text']\n",
    "y = df['rude']\n",
    "X_dtm = vect.fit_transform(X)\n",
    "X_train, X_test, y_train, y_test = train_test_split(X_dtm, y, test_size=0.30, random_state=42)\n",
    "\n",
    "# Create the GridSearch estimator along with a parameter object containing the values to adjust\n",
    "from sklearn.model_selection import GridSearchCV\n",
    "\n",
    "# Create regularization penalty space\n",
    "penalty = ['l1', 'l2']\n",
    "\n",
    "# Create regularization hyperparameter space\n",
    "C = np.logspace(0, 4, 10)\n",
    "\n",
    "# Create hyperparameter options\n",
    "hyperparameters = dict(C=C, penalty=penalty)\n",
    "\n",
    "grid = GridSearchCV(lg, hyperparameters, verbose=3)"
   ]
  },
  {
   "cell_type": "code",
   "execution_count": 89,
   "metadata": {},
   "outputs": [
    {
     "name": "stdout",
     "output_type": "stream",
     "text": [
      "Fitting 3 folds for each of 20 candidates, totalling 60 fits\n",
      "[CV] C=1.0, penalty=l1 ...............................................\n",
      "[CV] ...... C=1.0, penalty=l1, score=0.7471910112359551, total=   0.0s\n",
      "[CV] C=1.0, penalty=l1 ...............................................\n",
      "[CV] ...... C=1.0, penalty=l1, score=0.7865168539325843, total=   0.0s\n",
      "[CV] C=1.0, penalty=l1 ...............................................\n",
      "[CV] ...... C=1.0, penalty=l1, score=0.7661971830985915, total=   0.0s\n",
      "[CV] C=1.0, penalty=l2 ...............................................\n",
      "[CV] ...... C=1.0, penalty=l2, score=0.7331460674157303, total=   0.0s\n",
      "[CV] C=1.0, penalty=l2 ...............................................\n",
      "[CV] ...... C=1.0, penalty=l2, score=0.7752808988764045, total=   0.0s\n",
      "[CV] C=1.0, penalty=l2 ...............................................\n",
      "[CV] ...... C=1.0, penalty=l2, score=0.7492957746478873, total=   0.0s\n",
      "[CV] C=2.7825594022071245, penalty=l1 ................................\n",
      "[CV]  C=2.7825594022071245, penalty=l1, score=0.7191011235955056, total=   0.0s\n",
      "[CV] C=2.7825594022071245, penalty=l1 ................................\n",
      "[CV]  C=2.7825594022071245, penalty=l1, score=0.7893258426966292, total=   0.0s\n",
      "[CV] C=2.7825594022071245, penalty=l1 ................................\n",
      "[CV]  C=2.7825594022071245, penalty=l1, score=0.7492957746478873, total=   0.0s\n",
      "[CV] C=2.7825594022071245, penalty=l2 ................................\n",
      "[CV]  C=2.7825594022071245, penalty=l2, score=0.7191011235955056, total=   0.0s\n",
      "[CV] C=2.7825594022071245, penalty=l2 ................................\n",
      "[CV]  C=2.7825594022071245, penalty=l2, score=0.7696629213483146, total=   0.0s\n",
      "[CV] C=2.7825594022071245, penalty=l2 ................................\n",
      "[CV]  C=2.7825594022071245, penalty=l2, score=0.7408450704225352, total=   0.0s\n",
      "[CV] C=7.742636826811269, penalty=l1 .................................\n",
      "[CV]  C=7.742636826811269, penalty=l1, score=0.7050561797752809, total=   0.0s\n",
      "[CV] C=7.742636826811269, penalty=l1 .................................\n",
      "[CV]  C=7.742636826811269, penalty=l1, score=0.7808988764044944, total=   0.0s\n",
      "[CV] C=7.742636826811269, penalty=l1 .................................\n",
      "[CV]  C=7.742636826811269, penalty=l1, score=0.7183098591549296, total=   0.0s\n",
      "[CV] C=7.742636826811269, penalty=l2 .................................\n",
      "[CV]  C=7.742636826811269, penalty=l2, score=0.699438202247191, total=   0.0s\n",
      "[CV] C=7.742636826811269, penalty=l2 .................................\n",
      "[CV]  C=7.742636826811269, penalty=l2, score=0.7584269662921348, total=   0.0s"
     ]
    },
    {
     "name": "stderr",
     "output_type": "stream",
     "text": [
      "[Parallel(n_jobs=1)]: Done   1 out of   1 | elapsed:    0.0s remaining:    0.0s\n",
      "[Parallel(n_jobs=1)]: Done   2 out of   2 | elapsed:    0.0s remaining:    0.0s\n"
     ]
    },
    {
     "name": "stdout",
     "output_type": "stream",
     "text": [
      "\n",
      "[CV] C=7.742636826811269, penalty=l2 .................................\n",
      "[CV]  C=7.742636826811269, penalty=l2, score=0.723943661971831, total=   0.0s\n",
      "[CV] C=21.544346900318832, penalty=l1 ................................\n",
      "[CV]  C=21.544346900318832, penalty=l1, score=0.6825842696629213, total=   0.0s\n",
      "[CV] C=21.544346900318832, penalty=l1 ................................\n",
      "[CV]  C=21.544346900318832, penalty=l1, score=0.7471910112359551, total=   0.0s\n",
      "[CV] C=21.544346900318832, penalty=l1 ................................\n",
      "[CV]  C=21.544346900318832, penalty=l1, score=0.7098591549295775, total=   0.0s\n",
      "[CV] C=21.544346900318832, penalty=l2 ................................\n",
      "[CV]  C=21.544346900318832, penalty=l2, score=0.6882022471910112, total=   0.0s\n",
      "[CV] C=21.544346900318832, penalty=l2 ................................\n",
      "[CV]  C=21.544346900318832, penalty=l2, score=0.7584269662921348, total=   0.0s\n",
      "[CV] C=21.544346900318832, penalty=l2 ................................\n",
      "[CV]  C=21.544346900318832, penalty=l2, score=0.7267605633802817, total=   0.0s\n",
      "[CV] C=59.94842503189409, penalty=l1 .................................\n",
      "[CV]  C=59.94842503189409, penalty=l1, score=0.6825842696629213, total=   0.0s\n",
      "[CV] C=59.94842503189409, penalty=l1 .................................\n",
      "[CV]  C=59.94842503189409, penalty=l1, score=0.7359550561797753, total=   0.0s\n",
      "[CV] C=59.94842503189409, penalty=l1 .................................\n",
      "[CV]  C=59.94842503189409, penalty=l1, score=0.6985915492957746, total=   0.0s\n",
      "[CV] C=59.94842503189409, penalty=l2 .................................\n",
      "[CV]  C=59.94842503189409, penalty=l2, score=0.6882022471910112, total=   0.0s\n",
      "[CV] C=59.94842503189409, penalty=l2 .................................\n",
      "[CV]  C=59.94842503189409, penalty=l2, score=0.7443820224719101, total=   0.0s\n",
      "[CV] C=59.94842503189409, penalty=l2 .................................\n",
      "[CV]  C=59.94842503189409, penalty=l2, score=0.7183098591549296, total=   0.0s\n",
      "[CV] C=166.81005372000593, penalty=l1 ................................\n",
      "[CV]  C=166.81005372000593, penalty=l1, score=0.6825842696629213, total=   0.0s\n",
      "[CV] C=166.81005372000593, penalty=l1 ................................\n",
      "[CV]  C=166.81005372000593, penalty=l1, score=0.7359550561797753, total=   0.0s\n",
      "[CV] C=166.81005372000593, penalty=l1 ................................\n",
      "[CV]  C=166.81005372000593, penalty=l1, score=0.704225352112676, total=   0.0s\n",
      "[CV] C=166.81005372000593, penalty=l2 ................................\n",
      "[CV]  C=166.81005372000593, penalty=l2, score=0.6797752808988764, total=   0.0s\n",
      "[CV] C=166.81005372000593, penalty=l2 ................................\n",
      "[CV]  C=166.81005372000593, penalty=l2, score=0.7303370786516854, total=   0.0s\n",
      "[CV] C=166.81005372000593, penalty=l2 ................................\n",
      "[CV]  C=166.81005372000593, penalty=l2, score=0.7098591549295775, total=   0.0s\n",
      "[CV] C=464.15888336127773, penalty=l1 ................................\n",
      "[CV]  C=464.15888336127773, penalty=l1, score=0.6713483146067416, total=   0.0s\n",
      "[CV] C=464.15888336127773, penalty=l1 ................................\n",
      "[CV]  C=464.15888336127773, penalty=l1, score=0.7331460674157303, total=   0.0s\n",
      "[CV] C=464.15888336127773, penalty=l1 ................................\n",
      "[CV]  C=464.15888336127773, penalty=l1, score=0.704225352112676, total=   0.0s\n",
      "[CV] C=464.15888336127773, penalty=l2 ................................\n",
      "[CV]  C=464.15888336127773, penalty=l2, score=0.6769662921348315, total=   0.0s\n",
      "[CV] C=464.15888336127773, penalty=l2 ................................\n",
      "[CV]  C=464.15888336127773, penalty=l2, score=0.7359550561797753, total=   0.0s\n",
      "[CV] C=464.15888336127773, penalty=l2 ................................\n",
      "[CV]  C=464.15888336127773, penalty=l2, score=0.7070422535211267, total=   0.0s\n",
      "[CV] C=1291.5496650148827, penalty=l1 ................................\n",
      "[CV]  C=1291.5496650148827, penalty=l1, score=0.6741573033707865, total=   0.0s\n",
      "[CV] C=1291.5496650148827, penalty=l1 ................................\n",
      "[CV]  C=1291.5496650148827, penalty=l1, score=0.7415730337078652, total=   0.0s\n",
      "[CV] C=1291.5496650148827, penalty=l1 ................................\n",
      "[CV]  C=1291.5496650148827, penalty=l1, score=0.6985915492957746, total=   0.0s\n",
      "[CV] C=1291.5496650148827, penalty=l2 ................................\n",
      "[CV]  C=1291.5496650148827, penalty=l2, score=0.6685393258426966, total=   0.0s\n",
      "[CV] C=1291.5496650148827, penalty=l2 ................................\n",
      "[CV]  C=1291.5496650148827, penalty=l2, score=0.7331460674157303, total=   0.0s\n",
      "[CV] C=1291.5496650148827, penalty=l2 ................................\n",
      "[CV]  C=1291.5496650148827, penalty=l2, score=0.7014084507042253, total=   0.0s\n",
      "[CV] C=3593.813663804626, penalty=l1 .................................\n",
      "[CV]  C=3593.813663804626, penalty=l1, score=0.6741573033707865, total=   0.0s\n",
      "[CV] C=3593.813663804626, penalty=l1 .................................\n",
      "[CV]  C=3593.813663804626, penalty=l1, score=0.7443820224719101, total=   0.0s\n",
      "[CV] C=3593.813663804626, penalty=l1 .................................\n",
      "[CV]  C=3593.813663804626, penalty=l1, score=0.6901408450704225, total=   0.0s\n",
      "[CV] C=3593.813663804626, penalty=l2 .................................\n",
      "[CV]  C=3593.813663804626, penalty=l2, score=0.6629213483146067, total=   0.0s\n",
      "[CV] C=3593.813663804626, penalty=l2 .................................\n",
      "[CV]  C=3593.813663804626, penalty=l2, score=0.7191011235955056, total=   0.0s\n",
      "[CV] C=3593.813663804626, penalty=l2 .................................\n",
      "[CV]  C=3593.813663804626, penalty=l2, score=0.6957746478873239, total=   0.0s\n",
      "[CV] C=10000.0, penalty=l1 ...........................................\n",
      "[CV] .. C=10000.0, penalty=l1, score=0.6685393258426966, total=   0.0s\n",
      "[CV] C=10000.0, penalty=l1 ...........................................\n",
      "[CV] .. C=10000.0, penalty=l1, score=0.7275280898876404, total=   0.0s\n",
      "[CV] C=10000.0, penalty=l1 ...........................................\n",
      "[CV] .. C=10000.0, penalty=l1, score=0.6873239436619718, total=   0.0s\n",
      "[CV] C=10000.0, penalty=l2 ...........................................\n",
      "[CV] .. C=10000.0, penalty=l2, score=0.6713483146067416, total=   0.0s\n",
      "[CV] C=10000.0, penalty=l2 ...........................................\n",
      "[CV] .. C=10000.0, penalty=l2, score=0.7162921348314607, total=   0.0s\n",
      "[CV] C=10000.0, penalty=l2 ...........................................\n",
      "[CV] .. C=10000.0, penalty=l2, score=0.6901408450704225, total=   0.0s\n"
     ]
    },
    {
     "name": "stderr",
     "output_type": "stream",
     "text": [
      "[Parallel(n_jobs=1)]: Done  60 out of  60 | elapsed:    0.9s finished\n"
     ]
    },
    {
     "data": {
      "text/plain": [
       "GridSearchCV(cv=None, error_score='raise',\n",
       "       estimator=LogisticRegression(C=1.0, class_weight=None, dual=False, fit_intercept=True,\n",
       "          intercept_scaling=1, max_iter=100, multi_class='ovr', n_jobs=1,\n",
       "          penalty='l2', random_state=None, solver='liblinear', tol=0.0001,\n",
       "          verbose=0, warm_start=False),\n",
       "       fit_params=None, iid=True, n_jobs=1,\n",
       "       param_grid={'C': array([1.00000e+00, 2.78256e+00, 7.74264e+00, 2.15443e+01, 5.99484e+01,\n",
       "       1.66810e+02, 4.64159e+02, 1.29155e+03, 3.59381e+03, 1.00000e+04]), 'penalty': ['l1', 'l2']},\n",
       "       pre_dispatch='2*n_jobs', refit=True, return_train_score=True,\n",
       "       scoring=None, verbose=3)"
      ]
     },
     "execution_count": 89,
     "metadata": {},
     "output_type": "execute_result"
    }
   ],
   "source": [
    " # Fit the model using the grid search estimator. \n",
    "# This will take the Naive Bayes model and try each combination of parameters\n",
    "grid.fit(X_train, y_train)"
   ]
  },
  {
   "cell_type": "code",
   "execution_count": 90,
   "metadata": {},
   "outputs": [
    {
     "name": "stdout",
     "output_type": "stream",
     "text": [
      "{'C': 1.0, 'penalty': 'l1'}\n"
     ]
    }
   ],
   "source": [
    "# List the best parameters for this dataset\n",
    "print(grid.best_params_)"
   ]
  },
  {
   "cell_type": "code",
   "execution_count": 91,
   "metadata": {},
   "outputs": [
    {
     "name": "stdout",
     "output_type": "stream",
     "text": [
      "0.7666354264292409\n"
     ]
    }
   ],
   "source": [
    "# List the best score\n",
    "print(grid.best_score_)"
   ]
  },
  {
   "cell_type": "code",
   "execution_count": 92,
   "metadata": {},
   "outputs": [
    {
     "name": "stdout",
     "output_type": "stream",
     "text": [
      "             precision    recall  f1-score   support\n",
      "\n",
      "   not rude       0.80      0.86      0.83       308\n",
      "       rude       0.66      0.57      0.61       150\n",
      "\n",
      "avg / total       0.76      0.76      0.76       458\n",
      "\n"
     ]
    }
   ],
   "source": [
    " # Make predictions with the hypertuned model\n",
    "predictions = grid.predict(X_test)\n",
    "\n",
    " # Calculate classification report\n",
    "from sklearn.metrics import classification_report\n",
    "print(classification_report(y_test, predictions,\n",
    "                            target_names=[\"not rude\", \"rude\"]))"
   ]
  },
  {
   "cell_type": "markdown",
   "metadata": {},
   "source": [
    "## KNN Model"
   ]
  },
  {
   "cell_type": "code",
   "execution_count": 39,
   "metadata": {},
   "outputs": [
    {
     "name": "stdout",
     "output_type": "stream",
     "text": [
      "k: 1, Train/Test Score: 1.000/0.664\n",
      "k: 3, Train/Test Score: 0.814/0.677\n",
      "k: 5, Train/Test Score: 0.749/0.707\n",
      "k: 7, Train/Test Score: 0.732/0.710\n",
      "k: 9, Train/Test Score: 0.711/0.697\n",
      "k: 11, Train/Test Score: 0.706/0.692\n",
      "k: 13, Train/Test Score: 0.702/0.699\n",
      "k: 15, Train/Test Score: 0.698/0.697\n",
      "k: 17, Train/Test Score: 0.694/0.699\n",
      "k: 19, Train/Test Score: 0.690/0.694\n",
      "k: 21, Train/Test Score: 0.689/0.688\n",
      "k: 23, Train/Test Score: 0.689/0.690\n",
      "k: 25, Train/Test Score: 0.686/0.688\n",
      "k: 27, Train/Test Score: 0.685/0.686\n",
      "k: 29, Train/Test Score: 0.686/0.688\n",
      "k: 31, Train/Test Score: 0.685/0.686\n",
      "k: 33, Train/Test Score: 0.683/0.683\n",
      "k: 35, Train/Test Score: 0.683/0.688\n",
      "k: 37, Train/Test Score: 0.682/0.688\n",
      "k: 39, Train/Test Score: 0.681/0.686\n"
     ]
    }
   ],
   "source": [
    "from sklearn.neighbors import KNeighborsClassifier\n",
    "import matplotlib.pyplot as plt\n",
    "\n",
    "min_df = 0.01\n",
    "max_df = 0.95\n",
    "vect = CountVectorizer(stop_words='english', min_df=min_df, max_df=max_df, ngram_range=(1, 2))\n",
    "X = df['trim_text']\n",
    "y = df['rude']\n",
    "X_dtm = vect.fit_transform(X)\n",
    "X_train, X_test, y_train, y_test = train_test_split(X_dtm, y, test_size=0.30, random_state=42)\n",
    "\n",
    "# Loop through different k values to see which has the highest accuracy\n",
    "# Note: We only use odd numbers because we don't want any ties\n",
    "train_scores = []\n",
    "test_scores = []\n",
    "\n",
    "\n",
    "for k in range(1, 40, 2):\n",
    "    knn = KNeighborsClassifier(n_neighbors=k)\n",
    "    knn.fit(X_train, y_train)\n",
    "    train_score = knn.score(X_train, y_train)\n",
    "    test_score = knn.score(X_test, y_test)\n",
    "    train_scores.append(train_score)\n",
    "    test_scores.append(test_score)\n",
    "    print(f\"k: {k}, Train/Test Score: {train_score:.3f}/{test_score:.3f}\")"
   ]
  },
  {
   "cell_type": "code",
   "execution_count": 40,
   "metadata": {},
   "outputs": [
    {
     "data": {
      "image/png": "[encoded data removed]",
      "text/plain": [
       "<matplotlib.figure.Figure at 0x2062aea8fd0>"
      ]
     },
     "metadata": {},
     "output_type": "display_data"
    }
   ],
   "source": [
    "plt.plot(range(1, 40, 2), train_scores, marker='o')\n",
    "plt.plot(range(1, 40, 2), test_scores, marker=\"x\")\n",
    "plt.xlabel(\"k neighbors\")\n",
    "plt.ylabel(\"Testing accuracy Score\")\n",
    "plt.show() "
   ]
  },
  {
   "cell_type": "code",
   "execution_count": 41,
   "metadata": {},
   "outputs": [
    {
     "name": "stdout",
     "output_type": "stream",
     "text": [
      "k=13 Test Acc: 0.699\n"
     ]
    }
   ],
   "source": [
    "knn = KNeighborsClassifier(n_neighbors=13)\n",
    "knn.fit(X_train, y_train)\n",
    "print('k=13 Test Acc: %.3f' % knn.score(X_test, y_test))"
   ]
  },
  {
   "cell_type": "markdown",
   "metadata": {},
   "source": [
    "## SVC Model"
   ]
  },
  {
   "cell_type": "code",
   "execution_count": 50,
   "metadata": {
    "collapsed": true
   },
   "outputs": [],
   "source": [
    "min_df = 0.01\n",
    "max_df = 0.95\n",
    "vect = CountVectorizer(stop_words='english', min_df=min_df, max_df=max_df, ngram_range=(1, 2))\n",
    "X = df['trim_text']\n",
    "y = df['rude']\n",
    "X_dtm = vect.fit_transform(X)\n",
    "X_train, X_test, y_train, y_test = train_test_split(X_dtm, y, test_size=0.30, random_state=42)"
   ]
  },
  {
   "cell_type": "code",
   "execution_count": 51,
   "metadata": {},
   "outputs": [],
   "source": [
    "# Create the SVC Model\n",
    "from sklearn.svm import SVC \n",
    "model = SVC(kernel='linear')\n",
    "\n",
    "# Create the GridSearch estimator along with a parameter object containing the values to adjust\n",
    "from sklearn.model_selection import GridSearchCV\n",
    "param_grid = {'C': [1, 5, 10, 50],\n",
    "              'gamma': [0.0001, 0.0005, 0.001, 0.005]}\n",
    "grid = GridSearchCV(model, param_grid, verbose=3)"
   ]
  },
  {
   "cell_type": "code",
   "execution_count": 52,
   "metadata": {},
   "outputs": [
    {
     "name": "stdout",
     "output_type": "stream",
     "text": [
      "Fitting 3 folds for each of 16 candidates, totalling 48 fits\n",
      "[CV] C=1, gamma=0.0001 ...............................................\n",
      "[CV] ...... C=1, gamma=0.0001, score=0.6657303370786517, total=   0.1s\n",
      "[CV] C=1, gamma=0.0001 ...............................................\n",
      "[CV] ...... C=1, gamma=0.0001, score=0.7359550561797753, total=   0.0s\n",
      "[CV] C=1, gamma=0.0001 ...............................................\n"
     ]
    },
    {
     "name": "stderr",
     "output_type": "stream",
     "text": [
      "[Parallel(n_jobs=1)]: Done   1 out of   1 | elapsed:    0.2s remaining:    0.0s\n",
      "[Parallel(n_jobs=1)]: Done   2 out of   2 | elapsed:    0.3s remaining:    0.0s\n"
     ]
    },
    {
     "name": "stdout",
     "output_type": "stream",
     "text": [
      "[CV] ...... C=1, gamma=0.0001, score=0.7154929577464789, total=   0.0s\n",
      "[CV] C=1, gamma=0.0005 ...............................................\n",
      "[CV] ...... C=1, gamma=0.0005, score=0.6657303370786517, total=   0.1s\n",
      "[CV] C=1, gamma=0.0005 ...............................................\n",
      "[CV] ...... C=1, gamma=0.0005, score=0.7359550561797753, total=   0.0s\n",
      "[CV] C=1, gamma=0.0005 ...............................................\n",
      "[CV] ...... C=1, gamma=0.0005, score=0.7154929577464789, total=   0.0s\n",
      "[CV] C=1, gamma=0.001 ................................................\n",
      "[CV] ....... C=1, gamma=0.001, score=0.6657303370786517, total=   0.1s\n",
      "[CV] C=1, gamma=0.001 ................................................\n",
      "[CV] ....... C=1, gamma=0.001, score=0.7359550561797753, total=   0.0s\n",
      "[CV] C=1, gamma=0.001 ................................................\n",
      "[CV] ....... C=1, gamma=0.001, score=0.7154929577464789, total=   0.0s\n",
      "[CV] C=1, gamma=0.005 ................................................\n",
      "[CV] ....... C=1, gamma=0.005, score=0.6657303370786517, total=   0.1s\n",
      "[CV] C=1, gamma=0.005 ................................................\n",
      "[CV] ....... C=1, gamma=0.005, score=0.7359550561797753, total=   0.0s\n",
      "[CV] C=1, gamma=0.005 ................................................\n",
      "[CV] ....... C=1, gamma=0.005, score=0.7154929577464789, total=   0.0s\n",
      "[CV] C=5, gamma=0.0001 ...............................................\n",
      "[CV] ...... C=5, gamma=0.0001, score=0.6544943820224719, total=   0.1s\n",
      "[CV] C=5, gamma=0.0001 ...............................................\n",
      "[CV] ...... C=5, gamma=0.0001, score=0.7415730337078652, total=   0.0s\n",
      "[CV] C=5, gamma=0.0001 ...............................................\n",
      "[CV] ...... C=5, gamma=0.0001, score=0.6957746478873239, total=   0.0s\n",
      "[CV] C=5, gamma=0.0005 ...............................................\n",
      "[CV] ...... C=5, gamma=0.0005, score=0.6544943820224719, total=   0.1s\n",
      "[CV] C=5, gamma=0.0005 ...............................................\n",
      "[CV] ...... C=5, gamma=0.0005, score=0.7415730337078652, total=   0.1s\n",
      "[CV] C=5, gamma=0.0005 ...............................................\n",
      "[CV] ...... C=5, gamma=0.0005, score=0.6957746478873239, total=   0.0s\n",
      "[CV] C=5, gamma=0.001 ................................................\n",
      "[CV] ....... C=5, gamma=0.001, score=0.6544943820224719, total=   0.1s\n",
      "[CV] C=5, gamma=0.001 ................................................\n",
      "[CV] ....... C=5, gamma=0.001, score=0.7415730337078652, total=   0.1s\n",
      "[CV] C=5, gamma=0.001 ................................................\n",
      "[CV] ....... C=5, gamma=0.001, score=0.6957746478873239, total=   0.1s\n",
      "[CV] C=5, gamma=0.005 ................................................\n",
      "[CV] ....... C=5, gamma=0.005, score=0.6544943820224719, total=   0.1s\n",
      "[CV] C=5, gamma=0.005 ................................................\n",
      "[CV] ....... C=5, gamma=0.005, score=0.7415730337078652, total=   0.1s\n",
      "[CV] C=5, gamma=0.005 ................................................\n",
      "[CV] ....... C=5, gamma=0.005, score=0.6957746478873239, total=   0.0s\n",
      "[CV] C=10, gamma=0.0001 ..............................................\n",
      "[CV] ..... C=10, gamma=0.0001, score=0.6601123595505618, total=   0.1s\n",
      "[CV] C=10, gamma=0.0001 ..............................................\n",
      "[CV] ..... C=10, gamma=0.0001, score=0.7303370786516854, total=   0.1s\n",
      "[CV] C=10, gamma=0.0001 ..............................................\n",
      "[CV] ..... C=10, gamma=0.0001, score=0.6873239436619718, total=   0.0s\n",
      "[CV] C=10, gamma=0.0005 ..............................................\n",
      "[CV] ..... C=10, gamma=0.0005, score=0.6601123595505618, total=   0.1s\n",
      "[CV] C=10, gamma=0.0005 ..............................................\n",
      "[CV] ..... C=10, gamma=0.0005, score=0.7303370786516854, total=   0.0s\n",
      "[CV] C=10, gamma=0.0005 ..............................................\n",
      "[CV] ..... C=10, gamma=0.0005, score=0.6873239436619718, total=   0.0s\n",
      "[CV] C=10, gamma=0.001 ...............................................\n",
      "[CV] ...... C=10, gamma=0.001, score=0.6601123595505618, total=   0.1s\n",
      "[CV] C=10, gamma=0.001 ...............................................\n",
      "[CV] ...... C=10, gamma=0.001, score=0.7303370786516854, total=   0.0s\n",
      "[CV] C=10, gamma=0.001 ...............................................\n",
      "[CV] ...... C=10, gamma=0.001, score=0.6873239436619718, total=   0.0s\n",
      "[CV] C=10, gamma=0.005 ...............................................\n",
      "[CV] ...... C=10, gamma=0.005, score=0.6601123595505618, total=   0.1s\n",
      "[CV] C=10, gamma=0.005 ...............................................\n",
      "[CV] ...... C=10, gamma=0.005, score=0.7303370786516854, total=   0.0s\n",
      "[CV] C=10, gamma=0.005 ...............................................\n",
      "[CV] ...... C=10, gamma=0.005, score=0.6873239436619718, total=   0.0s\n",
      "[CV] C=50, gamma=0.0001 ..............................................\n",
      "[CV] ..... C=50, gamma=0.0001, score=0.6629213483146067, total=   0.1s\n",
      "[CV] C=50, gamma=0.0001 ..............................................\n",
      "[CV] ..... C=50, gamma=0.0001, score=0.7331460674157303, total=   0.1s\n",
      "[CV] C=50, gamma=0.0001 ..............................................\n",
      "[CV] ..... C=50, gamma=0.0001, score=0.6873239436619718, total=   0.0s\n",
      "[CV] C=50, gamma=0.0005 ..............................................\n",
      "[CV] ..... C=50, gamma=0.0005, score=0.6629213483146067, total=   0.1s\n",
      "[CV] C=50, gamma=0.0005 ..............................................\n",
      "[CV] ..... C=50, gamma=0.0005, score=0.7331460674157303, total=   0.0s\n",
      "[CV] C=50, gamma=0.0005 ..............................................\n",
      "[CV] ..... C=50, gamma=0.0005, score=0.6873239436619718, total=   0.1s\n",
      "[CV] C=50, gamma=0.001 ...............................................\n",
      "[CV] ...... C=50, gamma=0.001, score=0.6629213483146067, total=   0.1s\n",
      "[CV] C=50, gamma=0.001 ...............................................\n",
      "[CV] ...... C=50, gamma=0.001, score=0.7331460674157303, total=   0.0s\n",
      "[CV] C=50, gamma=0.001 ...............................................\n",
      "[CV] ...... C=50, gamma=0.001, score=0.6873239436619718, total=   0.0s\n",
      "[CV] C=50, gamma=0.005 ...............................................\n",
      "[CV] ...... C=50, gamma=0.005, score=0.6629213483146067, total=   0.1s\n",
      "[CV] C=50, gamma=0.005 ...............................................\n",
      "[CV] ...... C=50, gamma=0.005, score=0.7331460674157303, total=   0.0s\n",
      "[CV] C=50, gamma=0.005 ...............................................\n",
      "[CV] ...... C=50, gamma=0.005, score=0.6873239436619718, total=   0.0s\n"
     ]
    },
    {
     "name": "stderr",
     "output_type": "stream",
     "text": [
      "[Parallel(n_jobs=1)]: Done  48 out of  48 | elapsed:   10.6s finished\n"
     ]
    },
    {
     "data": {
      "text/plain": [
       "GridSearchCV(cv=None, error_score='raise',\n",
       "       estimator=SVC(C=1.0, cache_size=200, class_weight=None, coef0=0.0,\n",
       "  decision_function_shape='ovr', degree=3, gamma='auto', kernel='linear',\n",
       "  max_iter=-1, probability=False, random_state=None, shrinking=True,\n",
       "  tol=0.001, verbose=False),\n",
       "       fit_params=None, iid=True, n_jobs=1,\n",
       "       param_grid={'C': [1, 5, 10, 50], 'gamma': [0.0001, 0.0005, 0.001, 0.005]},\n",
       "       pre_dispatch='2*n_jobs', refit=True, return_train_score=True,\n",
       "       scoring=None, verbose=3)"
      ]
     },
     "execution_count": 52,
     "metadata": {},
     "output_type": "execute_result"
    }
   ],
   "source": [
    " # Fit the model using the grid search estimator. \n",
    "# This will take the SVC model and try each combination of parameters\n",
    "grid.fit(X_train, y_train)"
   ]
  },
  {
   "cell_type": "code",
   "execution_count": 47,
   "metadata": {},
   "outputs": [
    {
     "name": "stdout",
     "output_type": "stream",
     "text": [
      "0.7057169634489222\n"
     ]
    }
   ],
   "source": [
    " # List the best score\n",
    "print(grid.best_score_)"
   ]
  },
  {
   "cell_type": "code",
   "execution_count": 46,
   "metadata": {
    "scrolled": true
   },
   "outputs": [
    {
     "name": "stdout",
     "output_type": "stream",
     "text": [
      "{'C': 1, 'gamma': 0.0001}\n"
     ]
    }
   ],
   "source": [
    "# List the best parameters for this dataset\n",
    "print(grid.best_params_)"
   ]
  },
  {
   "cell_type": "code",
   "execution_count": 48,
   "metadata": {},
   "outputs": [
    {
     "name": "stdout",
     "output_type": "stream",
     "text": [
      "             precision    recall  f1-score   support\n",
      "\n",
      "   not rude       0.81      0.81      0.81       308\n",
      "       rude       0.61      0.60      0.60       150\n",
      "\n",
      "avg / total       0.74      0.74      0.74       458\n",
      "\n"
     ]
    }
   ],
   "source": [
    " # Make predictions with the hypertuned model\n",
    "predictions = grid.predict(X_test)\n",
    "\n",
    " # Calculate classification report\n",
    "from sklearn.metrics import classification_report\n",
    "print(classification_report(y_test, predictions,\n",
    "                            target_names=[\"not rude\", \"rude\"]))"
   ]
  },
  {
   "cell_type": "code",
   "execution_count": null,
   "metadata": {
    "collapsed": true
   },
   "outputs": [],
   "source": []
  }
 ],
 "metadata": {
  "kernelspec": {
   "display_name": "Python 3",
   "language": "python",
   "name": "python3"
  },
  "language_info": {
   "codemirror_mode": {
    "name": "ipython",
    "version": 3
   },
   "file_extension": ".py",
   "mimetype": "text/x-python",
   "name": "python",
   "nbconvert_exporter": "python",
   "pygments_lexer": "ipython3",
   "version": "3.6.2"
  }
 },
 "nbformat": 4,
 "nbformat_minor": 2
}
